{
 "cells": [
  {
   "cell_type": "markdown",
   "metadata": {},
   "source": [
    "# Basic Example\n",
    "\n",
    "First, we will run through a basic example of a example constraint problem. "
   ]
  },
  {
   "cell_type": "code",
   "execution_count": null,
   "metadata": {},
   "outputs": [],
   "source": []
  },
  {
   "cell_type": "code",
   "execution_count": null,
   "metadata": {},
   "outputs": [],
   "source": [
    "from __future__ import print_function\n",
    "from ortools.sat.python import cp_model\n",
    "import collections\n",
    "\n",
    "\n",
    "def main():\n",
    "    #Create the model object. \n",
    "    model = cp_model.CpModel()\n",
    "    \n",
    "    #Start Defining variables \n",
    "    num_vals = 3\n",
    "    x = model.NewIntVar(0, num_vals - 1, \"x\")#Can take value of 0 - 2. \n",
    "    y = model.NewIntVar(0, num_vals - 1, \"y\")\n",
    "    z = model.NewIntVar(0, num_vals - 1, \"z\")\n",
    "    \n",
    "    model.Add(x != y)\n",
    "    \n",
    "    #Create a solver object.\n",
    "    solver = cp_model.CpSolver()\n",
    "    solution_printer = SolutionPrinter([x, y, z])\n",
    "    solution = solver.SearchForAllSolutions(model,solution_printer )\n",
    "    print(solution)\n",
    "    print(\"Done\")\n",
    "    \n",
    "class SolutionPrinter(cp_model.CpSolverSolutionCallback):\n",
    "    \"\"\"Print intermediate solutions.\"\"\"\n",
    "    def __init__(self, variables):\n",
    "        cp_model.CpSolverSolutionCallback.__init__(self)\n",
    "        self.__variables = variables\n",
    "        self.__solution_count = 0\n",
    "         \n",
    "\n",
    "    def NewSolution(self):\n",
    "        self.__solution_count += 1\n",
    "        for v in self.__variables:\n",
    "            print('%s = %i' % (v, self.Value(v)), end = ' ')\n",
    "        print(\"n\")\n",
    "\n",
    "\n",
    "    def SolutionCount(self):\n",
    "        return self.__solution_count\n",
    "\n",
    "if __name__ == '__main__':\n",
    "    try:\n",
    "        main()\n",
    "    except e:\n",
    "        print(e)\n"
   ]
  },
  {
   "cell_type": "code",
   "execution_count": null,
   "metadata": {},
   "outputs": [],
   "source": [
    "from __future__ import print_function\n",
    "import collections\n",
    "from ortools.sat.python import cp_model\n",
    "\n",
    "def main():\n",
    "  model = cp_model.CpModel()\n",
    "  # Create the variables.\n",
    "  num_vals = 3\n",
    "  x = model.NewIntVar(0, num_vals - 1, \"x\")\n",
    "  y = model.NewIntVar(0, num_vals - 1, \"y\")\n",
    "  z = model.NewIntVar(0, num_vals - 1, \"z\")\n",
    "  # Create the constraints.\n",
    "  model.Add(x != y)\n",
    "  # Call the solver.\n",
    "  solver = cp_model.CpSolver()\n",
    "  solution_printer = SolutionPrinter([x, y, z])\n",
    "  status = solver.SearchForAllSolutions(model, solution_printer)\n",
    "  print('\\nNumber of solutions found: {}'.format(solution_printer.SolutionCount()))\n",
    "\n",
    "class SolutionPrinter(cp_model.CpSolverSolutionCallback):\n",
    "  \"\"\"Print intermediate solutions.\"\"\"\n",
    "\n",
    "  def __init__(self, variables):\n",
    "    cp_model.CpSolverSolutionCallback.__init__(self)\n",
    "    self.__variables = variables\n",
    "    self.__solution_count = 0\n",
    "\n",
    "  def NewSolution(self):\n",
    "    self.__solution_count += 1\n",
    "    for v in self.__variables:\n",
    "      print('%s = %i' % (v, self.Value(v)), end = ' ')\n",
    "    print()\n",
    "\n",
    "  def SolutionCount(self):\n",
    "    return self.__solution_count\n",
    "\n",
    "if __name__ == '__main__':\n",
    "  main()"
   ]
  },
  {
   "cell_type": "markdown",
   "metadata": {},
   "source": [
    "# Introduction\n",
    "The problem generally stems in plastics plant. For example:\n",
    "- There are 10 machines each capable of running various molds.\n",
    "- There are 2 types of molds, first is 4 cavity molds, and second is 6 cavity molds.\n",
    "- There are \n",
    "\n",
    "Below, we will setup the problem using google OrTools. \n",
    "\n",
    "\n"
   ]
  }
 ],
 "metadata": {
  "kernelspec": {
   "display_name": "Python 3",
   "language": "python",
   "name": "python3"
  },
  "language_info": {
   "codemirror_mode": {
    "name": "ipython",
    "version": 3
   },
   "file_extension": ".py",
   "mimetype": "text/x-python",
   "name": "python",
   "nbconvert_exporter": "python",
   "pygments_lexer": "ipython3",
   "version": "3.7.0"
  }
 },
 "nbformat": 4,
 "nbformat_minor": 2
}
